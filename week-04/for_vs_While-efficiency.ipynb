{
 "cells": [
  {
   "cell_type": "markdown",
   "id": "88c5f007-70e1-4671-8240-ab7b457b6314",
   "metadata": {},
   "source": [
    "In Python, you can time an algorithm:\n",
    "\n",
    "### Using the `time` module\n",
    "- Records the start and end times and calculates the elapsed time.\n"
   ]
  },
  {
   "cell_type": "code",
   "execution_count": null,
   "id": "add680ea-1f91-4fd0-bf20-2dd25e10c5ec",
   "metadata": {},
   "outputs": [],
   "source": [
    "import time\n",
    "\n",
    "\n",
    "# Start the timer\n",
    "start_time = time.time()\n",
    "\n",
    "# Code to time (Finding the max number in a list)\n",
    "numbers = [12, 45, 78, 23, 89, 56, 90, 34]\n",
    "max_number = numbers[0]\n",
    "i = 1\n",
    "while i < len(numbers):\n",
    "    if numbers[i] > max_number:\n",
    "        max_number = numbers[i]\n",
    "    i += 1\n",
    "\n",
    "# End the timer\n",
    "end_time = time.time()\n",
    "\n",
    "# Print elapsed time\n",
    "print(\"The maximum number in the list is:\", max_number)\n",
    "print(f\"Execution time: {end_time - start_time:.6f} seconds\")"
   ]
  },
  {
   "cell_type": "markdown",
   "id": "b397041d-8b67-4973-971a-d5f443d5c933",
   "metadata": {},
   "source": [
    "### Compare\n",
    "- That was a while loop version of 'Finding the max number'.\n",
    "- Let's see what we get with a for loop"
   ]
  },
  {
   "cell_type": "code",
   "execution_count": null,
   "id": "c0db713b-ec17-4e77-9c0b-bf46d629355b",
   "metadata": {},
   "outputs": [],
   "source": [
    "# Start the timer\n",
    "start_time = time.time()\n",
    "\n",
    "numbers = [12, 45, 78, 23, 89, 56, 90, 34]\n",
    "\n",
    "# Initialize max_number with the first element of the list\n",
    "max_number = numbers[0]\n",
    "\n",
    "# Iterate through the list to find the maximum number\n",
    "for num in numbers:\n",
    "    if num > max_number:\n",
    "        max_number = num\n",
    "\n",
    "# End the timer \n",
    "end_time = time.time()\n",
    "\n",
    "# Print the maximum number\n",
    "print(\"The maximum number in the list is:\", max_number)\n",
    "print(f\"Execution time: {end_time - start_time:.6f} seconds\")"
   ]
  },
  {
   "cell_type": "markdown",
   "id": "4f3fdfd5-dd41-4c1c-bbbf-156f34d8f665",
   "metadata": {},
   "source": [
    "### The for loop takes 1/2 the time? Why?\n",
    "- The `for` loop version of the algorithm is **faster** than the `while` loop version because of differences in how Python executes these loops.\n",
    "\n",
    "### `for` Loop\n",
    "- The `for` loop is **optimized for iterating over sequences** like lists. Python handles the iteration internally using an iterator, which reduces the number of explicit operations.\n",
    "\n",
    "### `while` Loop Has More Overhead, Every iteration, Python has to:\n",
    "\n",
    "1. Extra comparison step:\n",
    "- Python has to check `i < len(numbers)`.\n",
    "\n",
    "2. Manual indexing:\n",
    "-Access `numbers[i]`: Compute the memory location of `numbers[i]` & Retrieve the currentvalue.\n",
    "\n",
    "3. Manual increment:\n",
    "\n",
    "- The `(i += 1)`  operation requires modifying and storing i explicitly.\n"
   ]
  },
  {
   "cell_type": "markdown",
   "id": "a9261d10-ae4f-412d-b9b8-fddb8e81f45c",
   "metadata": {},
   "source": [
    "**In case you care:**\n",
    "\n",
    "### What's an iterator\n",
    "\n",
    "- In Python, an iterator is a class (User defined object with attributes and methods):\n",
    "\n",
    "- Python automatically calls the following functions behind the scenes:\n",
    "\n",
    "- Calls `iter(numbers)` to get an iterator object.\n",
    "\n",
    "- Calls `next(iterator)` to get the next item in the sequence without using an index.\n",
    "\n",
    "- Continues until StopIteration is raised (which happens when there are no more elements).\n",
    "\n",
    "\n"
   ]
  },
  {
   "cell_type": "code",
   "execution_count": null,
   "id": "c3745633-a324-4334-ac73-5fe9cc6bcdb3",
   "metadata": {},
   "outputs": [],
   "source": []
  }
 ],
 "metadata": {
  "kernelspec": {
   "display_name": "Python 3 (ipykernel)",
   "language": "python",
   "name": "python3"
  },
  "language_info": {
   "codemirror_mode": {
    "name": "ipython",
    "version": 3
   },
   "file_extension": ".py",
   "mimetype": "text/x-python",
   "name": "python",
   "nbconvert_exporter": "python",
   "pygments_lexer": "ipython3",
   "version": "3.11.9"
  }
 },
 "nbformat": 4,
 "nbformat_minor": 5
}
