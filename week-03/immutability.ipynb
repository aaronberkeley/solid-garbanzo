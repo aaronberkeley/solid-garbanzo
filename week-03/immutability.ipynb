{
 "cells": [
  {
   "cell_type": "markdown",
   "id": "daabce01-4993-450d-995a-659901a79201",
   "metadata": {},
   "source": [
    "# Immutable\n",
    "\n",
    "1. Attempt to change an element in an immutable object will ...?\n",
    "2. \"Change\" immutable object by ...?\n",
    "\n",
    "\n",
    "\n",
    "## e.g., Tuples \n"
   ]
  },
  {
   "cell_type": "code",
   "execution_count": null,
   "id": "e9b5900b-a265-4dc7-a818-f1a2c1024ddf",
   "metadata": {},
   "outputs": [],
   "source": [
    "t = (1, 2, 3)\n",
    "t[0] = 10 # ?"
   ]
  },
  {
   "cell_type": "markdown",
   "id": "5bfdd621-4d68-4e52-a60d-2eb4526f8853",
   "metadata": {},
   "source": [
    "### Create a new tuple to \"change\" it"
   ]
  },
  {
   "cell_type": "code",
   "execution_count": null,
   "id": "7c38dd8e-7632-4a40-9d5c-fd69ee1869d6",
   "metadata": {},
   "outputs": [],
   "source": [
    "new_t = (10,) + t[1:]  \n",
    "print(\"New tuple:\", new_t)  #?"
   ]
  },
  {
   "cell_type": "markdown",
   "id": "8e7d080b-03d3-422e-a68e-71964eaaffa1",
   "metadata": {},
   "source": [
    "# Mutable\n",
    "\n",
    "1. Attempt to change an element in an mutable object will ...?\n",
    "2. You don't have to create a new mutable object to modify it, but you can if you want.\n",
    "\n",
    " \n",
    "### e.g., Lists"
   ]
  },
  {
   "cell_type": "code",
   "execution_count": null,
   "id": "bc1330fe-ff40-499f-acb2-b8a0f5f6bd63",
   "metadata": {},
   "outputs": [],
   "source": [
    "l = [1, 2, 3]\n",
    "l[0] = 10  # Modifying the first element of the list\n",
    "print(\"Modified list:\", l) #?"
   ]
  }
 ],
 "metadata": {
  "kernelspec": {
   "display_name": "Python 3 (ipykernel)",
   "language": "python",
   "name": "python3"
  },
  "language_info": {
   "codemirror_mode": {
    "name": "ipython",
    "version": 3
   },
   "file_extension": ".py",
   "mimetype": "text/x-python",
   "name": "python",
   "nbconvert_exporter": "python",
   "pygments_lexer": "ipython3",
   "version": "3.11.9"
  }
 },
 "nbformat": 4,
 "nbformat_minor": 5
}
