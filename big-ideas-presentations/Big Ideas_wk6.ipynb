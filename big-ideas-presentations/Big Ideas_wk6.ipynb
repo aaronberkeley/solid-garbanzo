{
 "cells": [
  {
   "cell_type": "markdown",
   "id": "8456cd9e",
   "metadata": {},
   "source": [
    "## Execution time is very important when we start to handle larger datasets.\n",
    "#### The execution time of certain algorithms typically increase exponentially as the size of the data increases."
   ]
  },
  {
   "cell_type": "markdown",
   "id": "6106f77c",
   "metadata": {},
   "source": [
    "## Big Idea 1:\n",
    "### Big O (Big Theta)\n",
    "#### Rule 1: Delete Lower-Order Terms\n",
    "#### Rule 2: Delete Constant Factors\n",
    "#### Rules 3 & 4: Handle logs according to the hierarchy below and ignore the base of logs\n",
    "$$\n",
    "\\Theta(c^n) \\xrightarrow{dom.} \\Theta(n^3) \\xrightarrow{dom.} n^2 \\xrightarrow{dom.} n \\log n \\xrightarrow{dom.} n \\xrightarrow{dom.} \\log n \\xrightarrow{dom.} 1\n",
    "$$"
   ]
  },
  {
   "cell_type": "markdown",
   "id": "51c1d0f1",
   "metadata": {},
   "source": [
    "#### Examples:\n",
    "$$\n",
    "2n^2 + n + 100 \\text{ is } \\Theta(n^2)\n",
    "$$\n",
    "$$\n",
    "3n \\log_{10} n + 100n \\text{ is } \\Theta(n \\log n)\n",
    "$$"
   ]
  },
  {
   "cell_type": "markdown",
   "id": "1bf0f6b5",
   "metadata": {},
   "source": [
    "## Big Idea 2:\n",
    "### Search Algorithms\n",
    "#### You can exploit the structure of an algorithm to increase search speed\n",
    "Example: Bisection Search of a sorted list; cut the dataset in half at the middle, then throw away half of the dataset after comparing the middle to the desired value"
   ]
  },
  {
   "cell_type": "code",
   "execution_count": 2,
   "id": "4957f19c",
   "metadata": {},
   "outputs": [
    {
     "name": "stdout",
     "output_type": "stream",
     "text": [
      "3\n"
     ]
    }
   ],
   "source": [
    "def TlogN(input_): # Bisection Search\n",
    "    count = 0\n",
    "    high = len(input_) - 1\n",
    "    while high//2 != 0:\n",
    "        high = high//2\n",
    "        count +=1\n",
    "    return count\n",
    "\n",
    "print(TlogN([1,2,3,4,5,6,7,8,9]))"
   ]
  },
  {
   "cell_type": "markdown",
   "id": "4d329c1b",
   "metadata": {},
   "source": [
    "## Big Idea 3:\n",
    "### Subsequence searching\n",
    "#### Kadane's Algorithm finds the maximum sum of any continuous subarray by iterating through the array while maintaining a running maximum of the largest difference between the current end and the starting point\n",
    "Example: Instead of 2 nested for loops, we decrease the complexity to just $$\\Theta(n^3)$$"
   ]
  },
  {
   "cell_type": "code",
   "execution_count": 6,
   "id": "c32585c2",
   "metadata": {},
   "outputs": [
    {
     "name": "stdout",
     "output_type": "stream",
     "text": [
      "4.6440389143959715\n"
     ]
    }
   ],
   "source": [
    "import numpy as np\n",
    "import matplotlib.pyplot as plt\n",
    "\n",
    "price_changes = np.random.normal(0, 1, size=50)\n",
    "\n",
    "best = 0\n",
    "best_to_end = 0\n",
    "\n",
    "for end in range(len(price_changes)):\n",
    "    best_to_end = max(best_to_end + price_changes[end], 0)\n",
    "    if best_to_end > best:\n",
    "        best = best_to_end\n",
    "\n",
    "print(best)"
   ]
  },
  {
   "cell_type": "markdown",
   "id": "f64d6b69",
   "metadata": {},
   "source": [
    "## Big Idea 4:\n",
    "### Modules and Packages\n",
    "Modules in Python are single .py files containing variables, functions, or classes that can be imported into other programs, while packages are directories containing multiple modules, organized with an __init__.py file to indicate they are part of a package. This structure helps manage and prevent naming conflicts while allowing efficient code reuse.\n",
    "\n",
    "### Installing Python Packages\n",
    "\n",
    "This lecture covers three ways to install Python packages: Conda, Conda Forge, and pip.\n",
    "\n",
    "1.Conda (most secure) – Install with:\n",
    "    conda install package_name\n",
    "\n",
    "2.Conda Forge (broader selection) – Install with:\n",
    "    conda install -c conda-forge package_name\n",
    "\n",
    "3.pip (last resort, least secure) – Install with:\n",
    "    pip install package_name\n",
    "   \n",
    "### Run a module \n",
    "\n",
    "In the command line, type:\n",
    "    python my_file.py\n",
    "   \n",
    "### Imports\n",
    "\n",
    "Modularizing Python Code with Modules and Imports\n",
    "\n",
    "Importing can be done in three ways:\n",
    "\n",
    "1.Import the entire module (e.g., import weatherman) \n",
    "    – safer, avoids naming conflicts.  \n",
    "2.Import specific functions (e.g., from weatherman import get_report) \n",
    "    – shorter, but may cause conflicts.  \n",
    "3.Import and rename (e.g., from weatherman import get_report as do_it) \n",
    "    – useful if function names clash.  \n",
    "\n",
    "Using modules prevents code duplication and improves maintainability.\n",
    "\n",
    "### Packages\n",
    "\n",
    "Python Packages, Modules, and Datetime  \n",
    "\n",
    "Packages group related modules in a folder with `__init__.py`. "
   ]
  }
 ],
 "metadata": {
  "kernelspec": {
   "display_name": "Python 3 (ipykernel)",
   "language": "python",
   "name": "python3"
  },
  "language_info": {
   "codemirror_mode": {
    "name": "ipython",
    "version": 3
   },
   "file_extension": ".py",
   "mimetype": "text/x-python",
   "name": "python",
   "nbconvert_exporter": "python",
   "pygments_lexer": "ipython3",
   "version": "3.11.5"
  }
 },
 "nbformat": 4,
 "nbformat_minor": 5
}
