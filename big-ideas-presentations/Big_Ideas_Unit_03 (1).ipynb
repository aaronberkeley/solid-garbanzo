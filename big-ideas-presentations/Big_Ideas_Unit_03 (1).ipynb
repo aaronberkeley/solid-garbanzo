{
 "cells": [
  {
   "cell_type": "markdown",
   "metadata": {},
   "source": [
    "# Big Ideas From Unit 03 Lectures"
   ]
  },
  {
   "cell_type": "markdown",
   "metadata": {},
   "source": [
    "## Sequences\n",
    "\n",
    "A few types of sequences are covered in the lectures:\n",
    "1. Lists\n",
    "2. Tuples\n",
    "3. Ranges"
   ]
  },
  {
   "cell_type": "markdown",
   "metadata": {},
   "source": [
    "### Lists\n",
    "Lists are very powerful Python structures. They are written inside square brackets []."
   ]
  },
  {
   "cell_type": "code",
   "execution_count": 52,
   "metadata": {},
   "outputs": [
    {
     "name": "stdout",
     "output_type": "stream",
     "text": [
      "[1, 2, 3, 4, 5]\n"
     ]
    }
   ],
   "source": [
    "list_a = [1, 2, 3, 4, 5]\n",
    "print(list_a)"
   ]
  },
  {
   "cell_type": "markdown",
   "metadata": {},
   "source": [
    "Lists can contain almost any data type:"
   ]
  },
  {
   "cell_type": "code",
   "execution_count": 53,
   "metadata": {},
   "outputs": [
    {
     "name": "stdout",
     "output_type": "stream",
     "text": [
      "A list of integers:  [1, 3, 5, 7]\n",
      "A list of floats:  [1.5, 5.5, 9.5, 12.5]\n",
      "A list of strings:  ['a', 'b', 'c', 'd', 'e']\n",
      "A list of lists:  [['a'], [1, 2, 3], [0.1, 0.2, 0.3]]\n",
      "A listless list:  ['z', 'zz', 'zzz', 'zzzz']\n"
     ]
    }
   ],
   "source": [
    "integer_list = [1, 3, 5, 7]\n",
    "float_list = [1.5, 5.5, 9.5, 12.5]\n",
    "str_list = ['a', 'b', 'c', 'd', 'e']\n",
    "list_list = [['a'], [1, 2, 3], [0.1, 0.2, 0.3]]\n",
    "list_less = ['z', 'zz', 'zzz', 'zzzz']\n",
    "print(\"A list of integers: \", integer_list)\n",
    "print(\"A list of floats: \", float_list)\n",
    "print(\"A list of strings: \", str_list)\n",
    "print(\"A list of lists: \", list_list)\n",
    "print(\"A listless list: \", list_less)"
   ]
  },
  {
   "cell_type": "markdown",
   "metadata": {},
   "source": [
    "You can also use the `list()` constructor to turn any sequence of letters into a list:"
   ]
  },
  {
   "cell_type": "code",
   "execution_count": 54,
   "metadata": {},
   "outputs": [
    {
     "name": "stdout",
     "output_type": "stream",
     "text": [
      "['w', 'a', 't', 'e', 'r', 'm', 'e', 'l', 'o', 'n']\n"
     ]
    }
   ],
   "source": [
    "list_from_string = list('watermelon')\n",
    "print(list_from_string)"
   ]
  },
  {
   "cell_type": "markdown",
   "metadata": {},
   "source": [
    "There are myriad operators and methods that can be used with lists, many of which change the value or values in a list. **Important: lists are mutable, and may change in unexpected ways if caution is not exercised!** \n",
    "\n",
    "Here are just a handful of particularly useful/ common operators."
   ]
  },
  {
   "cell_type": "code",
   "execution_count": 55,
   "metadata": {},
   "outputs": [
    {
     "name": "stdout",
     "output_type": "stream",
     "text": [
      "True\n",
      "5\n",
      "5\n",
      "1\n",
      "2\n",
      "[1, 2, 3, 4, 5, 's']\n",
      "[1, 2, 3, 4, 5]\n",
      "[1, 2, 2.5, 3, 4, 5]\n",
      "5\n",
      "2.5\n"
     ]
    }
   ],
   "source": [
    "# These don't change the list\n",
    "print(2 in list_a)     # returns a boolean True if the integer 2 is in list_a, False otherwise\n",
    "print(list_a[4])       # returns the elemetn of list_a at index 4\n",
    "print(len(list_a))     # returns the length of list_a\n",
    "print(min(list_a))     # returns the minimum value in list_a. Also works for max(list_a)\n",
    "print(list_a.index(3)) # returns the first index where 3 occurs in list_a\n",
    "\n",
    "# These DO change the list\n",
    "list_a.append('s')    # adds an 's' element to the end of list_a\n",
    "print(list_a)\n",
    "del list_a[5]         # deletes the element in list_a at index 5\n",
    "print(list_a)\n",
    "list_a.insert(2, 2.5) # inserts a value of 2.5 at index 2 in list_a. This \"moves over\" the indices of the larger values\n",
    "print(list_a)\n",
    "print(list_a.pop())   # removes and returns the last element of the list\n",
    "print(list_a.pop(2))  # removes and returns the element at index 2 of the list"
   ]
  },
  {
   "cell_type": "markdown",
   "metadata": {},
   "source": [
    "As alluded to with the 'list of lists' example, lists can be nested within other lists. This behavior is similar to nested dictionaries, which are covered later.\n",
    "\n",
    "Another important note: `list` is a reserved keyword in python, so **do not name your variable `list`!**"
   ]
  },
  {
   "cell_type": "markdown",
   "metadata": {},
   "source": [
    "### Tuples\n",
    "Tuples are similar to lists, but are **immutable**.\n",
    "\n",
    "They are written surrounded by parentheses: (). Most of the operators that work with lists will also work with tuples, however methods that would alter the tuple, such as `.pop()`, will not (since tuples are immutable)."
   ]
  },
  {
   "cell_type": "code",
   "execution_count": 56,
   "metadata": {},
   "outputs": [
    {
     "name": "stdout",
     "output_type": "stream",
     "text": [
      "(1, 2, 8, 9)\n",
      "4\n",
      "9\n"
     ]
    }
   ],
   "source": [
    "tuple_a = (1, 2, 8, 9)\n",
    "print(tuple_a)\n",
    "print(len(tuple_a))\n",
    "print(max(tuple_a))"
   ]
  },
  {
   "cell_type": "markdown",
   "metadata": {},
   "source": [
    "There is also a `tuple()` constructor that allows for converting a list into a tuple:"
   ]
  },
  {
   "cell_type": "code",
   "execution_count": 57,
   "metadata": {},
   "outputs": [
    {
     "name": "stdout",
     "output_type": "stream",
     "text": [
      "(1, 5, 9, 'x', 'y', 'z')\n"
     ]
    }
   ],
   "source": [
    "tuple_from_list = tuple([1, 5, 9, 'x', 'y', 'z'])\n",
    "print(tuple_from_list)"
   ]
  },
  {
   "cell_type": "markdown",
   "metadata": {},
   "source": [
    "### Ranges\n",
    "The third sequence type from lecture is range. These take the form \n",
    "\n",
    "`x = range(start, stop, step)`\n",
    "\n",
    "where `start` is the value at which to begin the sequence, `stop` is the value at which to stop the sequence (**exlusive**), and `step` is the interval between sequential values. However, if you provide just *one* mumeric input to `range()` it will create a sequence starting at 0 and ending at the input value, exclusive.\n",
    "\n",
    "For example:"
   ]
  },
  {
   "cell_type": "code",
   "execution_count": 58,
   "metadata": {},
   "outputs": [
    {
     "name": "stdout",
     "output_type": "stream",
     "text": [
      "range(0, 11)\n",
      "[0, 1, 2, 3, 4, 5, 6, 7, 8, 9, 10]\n",
      "[2, 4, 6, 8, 10]\n"
     ]
    }
   ],
   "source": [
    "range_a = range(11)       # this returns the sequence starting at 0 and ending with 10\n",
    "print(range_a)            # notice that just calling print() on a range doesn't tell you all the elements\n",
    "print(list(range_a))\n",
    "range_b = range(2, 12, 2) # this returns the sequence starting at 2, ending at 10, and printing every other value\n",
    "print(list(range_b))"
   ]
  },
  {
   "cell_type": "markdown",
   "metadata": {},
   "source": [
    "Again, many of the operators discussed above (such as `len()` and `max()`) work for ranges."
   ]
  },
  {
   "cell_type": "markdown",
   "metadata": {},
   "source": [
    "## Dictionaries"
   ]
  },
  {
   "cell_type": "markdown",
   "metadata": {},
   "source": [
    "Dictionaries are **not** sequences, since the order of the entries are not important or even preserved.\n",
    "\n",
    "To create a dictionary, enclose the entries in curly braces: {}. The elements of a dictionary are *key-value stores*, or *key-value pairs*: the key maps to a value.\n",
    "\n",
    "There are a number of ways to create a dictionary: "
   ]
  },
  {
   "cell_type": "code",
   "execution_count": 59,
   "metadata": {},
   "outputs": [
    {
     "name": "stdout",
     "output_type": "stream",
     "text": [
      "{'b': 2, 'c': 3, 'a': 1}\n",
      "{'a': 1, 'b': 2, 'c': 3}\n",
      "True\n",
      "{'name': 'Jane Doe', 'age': 35, 'occupation': 'data scientist'}\n"
     ]
    }
   ],
   "source": [
    "dict_1 = dict(b=2, c=3, a=1)                  # create a dictionary with keyword arguments\n",
    "print(dict_1)\n",
    "dict_2 = dict([('a', 1), ('b', 2), ('c', 3)]) # create a dictionary with a list of tuples\n",
    "print(dict_2)\n",
    "print(dict_1 == dict_2)                       # despite order difference, dictionary 1 and 2 are equivalent\n",
    "dict_3 = {'name': 'Jane Doe', \n",
    "          'age': 35, \n",
    "          'occupation': 'data scientist'}     # create a dictionary using {}\n",
    "print(dict_3)"
   ]
  },
  {
   "cell_type": "markdown",
   "metadata": {},
   "source": [
    "A couple things to remember: the values in a dictionary can by of *any* type, but keys must be **immutable** (tuple, string, etc).\n",
    "\n",
    "The operators descussed above will all work for dictionaries, but there are many methods for dictionaries in addition. Here are a few:"
   ]
  },
  {
   "cell_type": "code",
   "execution_count": 60,
   "metadata": {},
   "outputs": [
    {
     "name": "stdout",
     "output_type": "stream",
     "text": [
      "1\n",
      "2\n",
      "dict_keys(['name', 'age', 'occupation'])\n",
      "dict_values(['Jane Doe', 35, 'data scientist'])\n",
      "dict_items([('a', 1), ('b', 2), ('c', 3)])\n"
     ]
    }
   ],
   "source": [
    "print(dict_1['a'])     # returns the value associated with the given key\n",
    "print(dict_1.get('b')) # returns the value associated with the specified key\n",
    "print(dict_3.keys())   # returns all the keys present in the dictionary\n",
    "print(dict_3.values()) # returns all the values present in the dictionary\n",
    "print(dict_2.items())  # returns all the key-value pairs in the dictionary"
   ]
  },
  {
   "cell_type": "markdown",
   "metadata": {},
   "source": [
    "### Nested Dictionaries\n",
    "Dictionaries can be nested within other dictionaries. Keys need to get stacked in order to extract values deeper in the dictionary structure. For example:"
   ]
  },
  {
   "cell_type": "code",
   "execution_count": 64,
   "metadata": {},
   "outputs": [
    {
     "name": "stdout",
     "output_type": "stream",
     "text": [
      "Student 2 is taking this class: Outro to Python\n"
     ]
    }
   ],
   "source": [
    "dict_nested = {\n",
    "    'student_1': {'name': 'Josh', 'ID': 101, 'class': 'Intro to Python'},\n",
    "    'student_2': {'name': 'Joshua', 'ID': 102, 'class': 'Outro to Python'},\n",
    "    'student_3': {'name': 'Jocelyn', 'ID': 103, 'class': 'Statistics'}\n",
    "}\n",
    "stu2_class = dict_nested['student_2']['class']\n",
    "print(\"Student 2 is taking this class:\", stu2_class)"
   ]
  },
  {
   "cell_type": "code",
   "execution_count": null,
   "metadata": {},
   "outputs": [],
   "source": []
  }
 ],
 "metadata": {
  "kernelspec": {
   "display_name": "base",
   "language": "python",
   "name": "python3"
  },
  "language_info": {
   "codemirror_mode": {
    "name": "ipython",
    "version": 3
   },
   "file_extension": ".py",
   "mimetype": "text/x-python",
   "name": "python",
   "nbconvert_exporter": "python",
   "pygments_lexer": "ipython3",
   "version": "3.12.2"
  }
 },
 "nbformat": 4,
 "nbformat_minor": 2
}
