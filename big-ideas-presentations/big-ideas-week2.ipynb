{
 "cells": [
  {
   "cell_type": "markdown",
   "metadata": {},
   "source": [
    "# Big Ideas Week 2\n",
    "\n",
    "### Big Idea 1: The Python Programming Language\n",
    "- Python is a high level programming language\n",
    "- Python has a high level abtraction that allows programmers to write large chunks of low level machine code with just a few keywords\n",
    "- The main benifits of Python are its readability and writeability\n",
    "- Other programming languages include C++, Java, R, and so on, each serving a niche in the development process\n"
   ]
  },
  {
   "cell_type": "markdown",
   "metadata": {},
   "source": [
    "### Big Idea 2: Objects and Variables\n",
    "\n",
    "- Everything is an object in Python, and every object has a type.\n",
    "- Basic object types include integers, strings, booleans and floats\n",
    "- Python is a language with \"dynamic typing\", meaning that object types are not static and can be modified."
   ]
  },
  {
   "cell_type": "code",
   "execution_count": 22,
   "metadata": {},
   "outputs": [
    {
     "name": "stdout",
     "output_type": "stream",
     "text": [
      "<class 'int'>\n",
      "<class 'str'>\n",
      "<class 'bool'>\n",
      "<class 'float'>\n"
     ]
    }
   ],
   "source": [
    "# variable x was assigned an integer\n",
    "x = 1\n",
    "print(type(x))\n",
    "\n",
    "# now it's been assigned a string\n",
    "x = \"abc\"\n",
    "print(type(x))\n",
    "\n",
    "# now it's a boolean\n",
    "x = True\n",
    "print(type(x))\n",
    "\n",
    "# now it's a float\n",
    "x = 2.75\n",
    "print(type(x))"
   ]
  },
  {
   "cell_type": "markdown",
   "metadata": {},
   "source": [
    "### Big Idea 3: Numbers\n",
    "\n",
    "- Whole numbers can be stored as \"int\" (integer) objects, while non-integers can be stored as \"floats\" (floating point)\n",
    "- Python has no limit for how large numbers can be, as long as there is enough memory.\n",
    "- Be careful about doing equality checks with floats, due to rounding errors."
   ]
  },
  {
   "cell_type": "code",
   "execution_count": 23,
   "metadata": {},
   "outputs": [
    {
     "name": "stdout",
     "output_type": "stream",
     "text": [
      "Behold, a googol:  10000000000000000000000000000000000000000000000000000000000000000000000000000000000000000000000000000\n",
      "1/10 may look like: 0.1\n",
      "...but in reality, it is stored as 0.100000000000000005551115123125782702118158340454101562500000\n"
     ]
    }
   ],
   "source": [
    "# Python 3 can store any number sizes.\n",
    "x = 10**100\n",
    "print(\"Behold, a googol: \",x) \n",
    "\n",
    "# Floats can incorporate rounding errors due to internal binary translation\n",
    "x = 1/10\n",
    "print(\"1/10 may look like:\",x)\n",
    "print(\"...but in reality, it is stored as %.60f\" %x)"
   ]
  },
  {
   "cell_type": "markdown",
   "metadata": {},
   "source": [
    "### Big Idea 4: Strings\n",
    "\n",
    "- Strings are arrays of characters that can represent all sorts of data\n",
    "- Strings can include numbers, letters, or special characters\n",
    "- Strings are used for a varity of purposes; most notably I/O since they can easily store sentences"
   ]
  },
  {
   "cell_type": "code",
   "execution_count": 1,
   "metadata": {},
   "outputs": [
    {
     "name": "stdout",
     "output_type": "stream",
     "text": [
      "<class 'str'>\n",
      "<class 'str'>\n",
      "This is a sentence and This is also a sentence\n",
      "3.14, type: <class 'str'>\n",
      "Converting this float 3.14 into a string., type: <class 'str'>\n",
      "4\n",
      ".1\n"
     ]
    }
   ],
   "source": [
    "sentence_1 = \"This is a sentence\"            # Here Python automatically covers the variable to a string since the assignment is in quotations\n",
    "print(type(sentence_1))                      # An easy way to check if it was converted to a string (str)\n",
    "\n",
    "sentence_2 = 'This is also a sentence'       # You can also use aposterphie to denote a string\n",
    "print(type(sentence_2))\n",
    "\n",
    "new_sentence = sentence_1 + \" and \" + sentence_2  # This is called concatenation, that is adding strings together and it is done with the + operator\n",
    "print(new_sentence)\n",
    "\n",
    "random_chars = str(3.14)                      # Using the str() function, Python will try to convert any passed parameter to a string\n",
    "print(random_chars + \", type: \" + str(type(random_chars)))\n",
    "\n",
    "f_string = f\"Converting this float {random_chars} into a string.\"  # this is called the formating string literal\n",
    "print(f_string + \", type: \" + str(type(f_string)))\n",
    "\n",
    "print(random_chars[-1])                    # Accessing different elements in the string\n",
    "print(random_chars[-3:-1])                 # Creating a splice of different elements\n",
    "\n",
    "weather_today = input(\"What is the weather today: \")"
   ]
  },
  {
   "cell_type": "markdown",
   "metadata": {},
   "source": [
    "### Big Idea 5: Control & While Loops\n",
    "\n",
    "- Control is a way to check certain characteristics of variables (conditionals) using if, elif, and else\n",
    "    - == (is equal to)\n",
    "    - != (not equal to)\n",
    "    - => (is greater than)\n",
    "    - =< (is less than)\n",
    "- Loops are a way to iterate a proccess\n",
    "- If there is repeated arithmitic in an algorithm loops are an efficient solution\n",
    "- Loops can be nested to perform another interative process inside another iterative process"
   ]
  },
  {
   "cell_type": "code",
   "execution_count": null,
   "metadata": {},
   "outputs": [],
   "source": [
    "# How to make an asterik right triangle\n",
    "\n",
    "user_input = int(input(\"How many asteriks tall do you want your triangle: \")) # convert input string to integer format\n",
    "rows = 0\n",
    "\n",
    "while rows < user_input:\n",
    "\n",
    "    stars = ''\n",
    "\n",
    "    while len(stars) <= rows: # nested while loop\n",
    "        stars+='*'\n",
    "\n",
    "    print(stars)\n",
    "    rows+=1\n",
    "\n",
    "if rows >= 6:\n",
    "    print(\"\\nThis triangle is too big!\")\n",
    "elif rows == 5:\n",
    "    print(\"\\nThis triangle is jusssst right!\")\n",
    "else:\n",
    "    print(\"\\nThis triangle is too small!\")"
   ]
  }
 ],
 "metadata": {
  "kernelspec": {
   "display_name": "Python 3 (ipykernel)",
   "language": "python",
   "name": "python3"
  },
  "language_info": {
   "codemirror_mode": {
    "name": "ipython",
    "version": 3
   },
   "file_extension": ".py",
   "mimetype": "text/x-python",
   "name": "python",
   "nbconvert_exporter": "python",
   "pygments_lexer": "ipython3",
   "version": "3.11.4"
  }
 },
 "nbformat": 4,
 "nbformat_minor": 4
}
