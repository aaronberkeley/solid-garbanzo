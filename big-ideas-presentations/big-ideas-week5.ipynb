{
 "cells": [
  {
   "cell_type": "markdown",
   "metadata": {},
   "source": [
    "# Big Ideas Week 5\n",
    "\n",
    "### Big Idea 1: Functions and Parameters\n",
    "- Decomposition: break up tasks into self-contained pieces\n",
    "- Modularity: Flexible code that can be reused and more readable\n",
    "- Abstraction: can hide layers between the code\n",
    "\n"
   ]
  },
  {
   "cell_type": "code",
   "execution_count": 2,
   "metadata": {},
   "outputs": [],
   "source": [
    "def sqrt(x, epsilon = 0.00001):\n",
    "    ans = 1\n",
    "    num_guesses = 0\n",
    "    while abs(x/ans - ans) > epsilon:\n",
    "        ans = (x/ans + ans)/ 2\n",
    "        num_guesses += 1\n",
    "    return ans"
   ]
  },
  {
   "cell_type": "code",
   "execution_count": 3,
   "metadata": {},
   "outputs": [
    {
     "name": "stdout",
     "output_type": "stream",
     "text": [
      "2.2360688956433634\n"
     ]
    }
   ],
   "source": [
    "root = sqrt(5, 0.00001)\n",
    "print(root)"
   ]
  },
  {
   "cell_type": "code",
   "execution_count": 4,
   "metadata": {},
   "outputs": [
    {
     "name": "stdout",
     "output_type": "stream",
     "text": [
      "5.000000000053722\n"
     ]
    }
   ],
   "source": [
    "def distance_to_origin(x, y):\n",
    "    ans = sqrt(x**2 + y**2)\n",
    "    return ans\n",
    "\n",
    "x = 3\n",
    "y = 4\n",
    "print(distance_to_origin(x, y))"
   ]
  },
  {
   "cell_type": "markdown",
   "metadata": {},
   "source": [
    "### Big Idea 2: Namespaces and Global variables\n",
    "\n",
    "- Global variable is defined outside the functions. They won't be changed with code inside the function.\n",
    "- variable inside the function is a local variable\n",
    "- Use namespace to hold the value of the variable\n",
    "\n",
    "Why namespaces?\n",
    "- prevents functions from altering variables in other parts of code\n",
    "- names can be reused\n",
    "- functions are then only limited to parameters so it is easier to use"
   ]
  },
  {
   "cell_type": "code",
   "execution_count": 5,
   "metadata": {},
   "outputs": [
    {
     "name": "stdout",
     "output_type": "stream",
     "text": [
      "4\n",
      "3\n"
     ]
    }
   ],
   "source": [
    "def add_one(x):\n",
    "    x = x + 1\n",
    "    return x\n",
    "\n",
    "x = 3\n",
    "print(add_one(x))\n",
    "print(x)"
   ]
  },
  {
   "cell_type": "markdown",
   "metadata": {},
   "source": [
    "### Big Idea 3: Recursion\n",
    "\n",
    "- Requires a base case\n",
    "-- simple answer to the problem we need to solve\n",
    "- a recursive rule\n",
    "--mathematical way to break down the problem"
   ]
  },
  {
   "cell_type": "code",
   "execution_count": 7,
   "metadata": {},
   "outputs": [
    {
     "name": "stdout",
     "output_type": "stream",
     "text": [
      "120\n"
     ]
    }
   ],
   "source": [
    "def factorial(n):\n",
    "    if n == 1:\n",
    "        return 1\n",
    "    return n * factorial(n-1)\n",
    "\n",
    "n = 5\n",
    "print(factorial(n))"
   ]
  },
  {
   "cell_type": "markdown",
   "metadata": {},
   "source": [
    "### Big Idea 4: Exceptions\n",
    "\n",
    "- Ways to handle error statements\n",
    "- different types of errors to handle as well and can output different exceptions\n"
   ]
  },
  {
   "cell_type": "code",
   "execution_count": 8,
   "metadata": {},
   "outputs": [
    {
     "name": "stdout",
     "output_type": "stream",
     "text": [
      "You did not enter a valid number.\n"
     ]
    }
   ],
   "source": [
    "try:\n",
    "    x = int(input(\"Enter a number:\"))\n",
    "    print(\"the reciprocal of your number is:\", 1/x)\n",
    "except:\n",
    "    print(\"You did not enter a valid number.\")"
   ]
  }
 ],
 "metadata": {
  "kernelspec": {
   "display_name": "Python 3 (ipykernel)",
   "language": "python",
   "name": "python3"
  },
  "language_info": {
   "codemirror_mode": {
    "name": "ipython",
    "version": 3
   },
   "file_extension": ".py",
   "mimetype": "text/x-python",
   "name": "python",
   "nbconvert_exporter": "python",
   "pygments_lexer": "ipython3",
   "version": "3.11.9"
  }
 },
 "nbformat": 4,
 "nbformat_minor": 4
}
