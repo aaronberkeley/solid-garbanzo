{
 "cells": [
  {
   "cell_type": "markdown",
   "id": "b2d9e125-eb01-4639-b981-467e8105adba",
   "metadata": {},
   "source": [
    "# Example 1: Logarithmic\n",
    "\n",
    "```python\n",
    "def count_digits(n):\n",
    "    count = 0\n",
    "    while n > 0:\n",
    "        n //= 10\n",
    "        count += 1\n",
    "    return count\n",
    "```\n",
    "\n",
    "**Explanation:**\n",
    "1. The function repeatedly divides `n` by 10 (`n //= 10`).\n",
    "2. Each division reduces the value of `n` by a factor of 10.\n",
    "3. The loop continues until `n` becomes 0.\n",
    "\n",
    "**Complexity:** Θ(log n)\n",
    "- The number of times this loop runs is approximately the number of digits in `n`, which is `log_{10}(n)`.\n",
    "- Thus, the time complexity is **\\( \\Theta(\\log n) \\)** (logarithmic complexity).\n",
    "\n",
    "#### Optimized Version (Constant):\n",
    "```python\n",
    "import math\n",
    "\n",
    "def count_digits(n):\n",
    "    return math.floor(math.log10(n)) + 1 if n > 0 else 1\n",
    "```\n",
    "1. The function computes `math.log10(n)`, which finds the logarithm of `n` in base 10.\n",
    "2. The logarithm function in Python runs in **constant time \\( \\Theta(1) \\)** because it is a single mathematical operation.\n",
    "3. The additional operations (`math.floor(...)` and `+1`) are also constant-time operations.\n",
    "4. Since no loops or recursive calls are present, the function does **not** depend on the size of `n`.\n",
    "\n",
    "- Thus, the optimized version has a constant time complexity of **\\( \\Theta(1) \\)**.\n"
   ]
  },
  {
   "cell_type": "markdown",
   "id": "ef0a2281-c35e-458c-8473-68e67a3be4e0",
   "metadata": {},
   "source": [
    "### Example 2: Factorial"
   ]
  },
  {
   "cell_type": "markdown",
   "id": "e61415e8-6fe6-4f0c-b6a7-5324b5a3c633",
   "metadata": {},
   "source": [
    "```python\n",
    "\n",
    "def permutations(arr):\n",
    "    if len(arr) == 0:\n",
    "        return [[]]\n",
    "    result = []\n",
    "    for i in range(len(arr)):\n",
    "        for p in permutations(arr[:i] + arr[i+1:]):\n",
    "            result.append([arr[i]] + p)\n",
    "    return result\n",
    "```\n",
    "\n",
    "**Explanation:**\n",
    "- The code generates all permutations of the given array recursively. \n",
    "- For each element in the array, it recursively generates permutations of the remaining elements and appends the current element to each permutation.\n",
    "\n",
    "**Complexity:** Θ(n!)\n",
    "The number of permutations of an array of length `n` is n!. This function generates all possible permutations, leading to factorial time complexity.\n",
    "\n",
    "**Optimized Version (Not possible):**\n",
    "- Generating all permutations is inherently an exponential time problem. \n",
    "- There is no known algorithm that can generate all permutations in polynomial time."
   ]
  },
  {
   "cell_type": "markdown",
   "id": "2e7836c0-f83c-4859-a940-3abd9016f97d",
   "metadata": {},
   "source": [
    "### Example 3: Exponential\n",
    "\n",
    "```python\n",
    "def fibonacci(n):\n",
    "    if n <= 1:\n",
    "        return n\n",
    "    return fibonacci(n - 1) + fibonacci(n - 2)\n",
    "```\n",
    "\n",
    "**Explanation:**\n",
    "- The code calculates the Fibonacci sequence recursively. \n",
    "- Each Fibonacci number is calculated by summing the previous two Fibonacci numbers.\n",
    "\n",
    "**Complexity:** Θ(2^n)\n",
    "- The recursive calls to `fibonacci` create a binary tree structure. \n",
    "- The depth of the tree is `n`, and each level of the tree has 2^i nodes (where `i` is the level). \n",
    "- This leads to a total of 2^n nodes in the tree, resulting in exponential time complexity.\n",
    "\n",
    "**Optimized Version (Linear):**\n",
    "```python\n",
    "def fibonacci_linear(n):\n",
    "    if n <= 1:\n",
    "        return n\n",
    "    a, b = 0, 1\n",
    "    for _ in range(2, n + 1):\n",
    "        a, b = b, a + b\n",
    "    return b\n",
    "```\n",
    "- This version uses a loop to iteratively calculate the Fibonacci sequence. \n",
    "- It thereby avoids the redundant recursive calls. \n",
    "- This results in linear time complexity.\n"
   ]
  },
  {
   "cell_type": "markdown",
   "id": "3d87dc7c-8983-44cd-9b6b-d4f08431261f",
   "metadata": {},
   "source": [
    "### Example 4: Linear\n",
    "\n",
    "```python\n",
    "def sum_of_elements(arr):\n",
    "    total = 0\n",
    "    for element in arr:\n",
    "        total += element\n",
    "    return total\n",
    "```\n",
    "**Explanation:**\n",
    "The code iterates over the array and adds each element to a running total.\n",
    "\n",
    "**Complexity:** Θ(n)\n",
    "The loop iterates over each element in the array once, resulting in linear time complexity.\n",
    "\n",
    "**Optimized Version (Not possible):**\n",
    "\n",
    "\n",
    "- While there are shorter ways to write this example, they will still have still Complexity: Θ(n). e.g.,\n",
    "\n",
    "```python\n",
    "def sum_of_elements(arr):\n",
    "    return sum(arr)\n",
    "```"
   ]
  },
  {
   "cell_type": "code",
   "execution_count": null,
   "id": "6e709530-877c-4b49-8922-b4b6a606a69b",
   "metadata": {},
   "outputs": [],
   "source": []
  },
  {
   "cell_type": "code",
   "execution_count": null,
   "id": "4c10507d-62c7-4361-a67b-a7f04fba74d6",
   "metadata": {},
   "outputs": [],
   "source": []
  }
 ],
 "metadata": {
  "kernelspec": {
   "display_name": "Python 3 (ipykernel)",
   "language": "python",
   "name": "python3"
  },
  "language_info": {
   "codemirror_mode": {
    "name": "ipython",
    "version": 3
   },
   "file_extension": ".py",
   "mimetype": "text/x-python",
   "name": "python",
   "nbconvert_exporter": "python",
   "pygments_lexer": "ipython3",
   "version": "3.11.9"
  }
 },
 "nbformat": 4,
 "nbformat_minor": 5
}
